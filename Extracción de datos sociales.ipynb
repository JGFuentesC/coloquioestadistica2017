{
 "cells": [
  {
   "cell_type": "markdown",
   "metadata": {
    "deletable": true,
    "editable": true
   },
   "source": [
    "# Extracción de datos de redes sociales "
   ]
  },
  {
   "cell_type": "markdown",
   "metadata": {
    "deletable": true,
    "editable": true
   },
   "source": [
    "### 1. Librerías de trabajo"
   ]
  },
  {
   "cell_type": "code",
   "execution_count": null,
   "metadata": {
    "collapsed": false,
    "deletable": true,
    "editable": true
   },
   "outputs": [],
   "source": [
    "\n",
    "#API de twitter\n",
    "import tweepy\n",
    "\n",
    "#Extracción del objeto request del URL\n",
    "from urllib2 import urlopen\n",
    "\n",
    "#Manipulación de datos\n",
    "import csv\n",
    "import json as js\n",
    "\n",
    "\n",
    "#Persistencia de datos\n",
    "import pickle \n"
   ]
  },
  {
   "cell_type": "markdown",
   "metadata": {
    "deletable": true,
    "editable": true
   },
   "source": [
    "###  2. Función para Conexión  a twitter"
   ]
  },
  {
   "cell_type": "code",
   "execution_count": null,
   "metadata": {
    "collapsed": true,
    "deletable": true,
    "editable": true
   },
   "outputs": [],
   "source": [
    "def conectar_twitter(consumer_key,\n",
    "                     consumer_secret,\n",
    "                     access_token,\n",
    "                     access_token_secret):\n",
    "    auth = tweepy.OAuthHandler(consumer_key,\n",
    "                               consumer_secret)\n",
    "    auth.set_access_token(access_token,\n",
    "                          access_token_secret)\n",
    "    api = tweepy.API(auth)\n",
    "    return api"
   ]
  },
  {
   "cell_type": "markdown",
   "metadata": {
    "deletable": true,
    "editable": true
   },
   "source": [
    "### 3. Función para obtener todos los tweets de un usuario"
   ]
  },
  {
   "cell_type": "code",
   "execution_count": null,
   "metadata": {
    "collapsed": false,
    "deletable": true,
    "editable": true
   },
   "outputs": [],
   "source": [
    "def obtener_tweets_usuario(nombre_de_usuario,api):\n",
    "    todos = []\n",
    "    nuevos = api.user_timeline(screen_name = nombre_de_usuario,\n",
    "                               count=200)\n",
    "    todos.extend(nuevos)\n",
    "    maximo = todos[-1].id-1\n",
    "    while len(nuevos)>0:\n",
    "        print \"obteniendo tweets antes de %s\" % maximo\n",
    "        nuevos = api.user_timeline(screen_name = nombre_de_usuario,count=200,max_id=maximo)\n",
    "        todos.extend(nuevos)\n",
    "        maximo = todos[-1].id-1\n",
    "        print \"...%s tweets descargados\" % len(todos)\n",
    "    outtweets = [[tweet.text.encode('utf8'),\n",
    "                    tweet.is_quote_status,\n",
    "                    tweet.in_reply_to_status_id,\n",
    "                    tweet.favorite_count,\n",
    "                    tweet.source,\n",
    "                    tweet.retweeted,\n",
    "                    tweet.coordinates,\n",
    "                    tweet.entities,\n",
    "                    tweet.in_reply_to_screen_name,\n",
    "                    tweet.in_reply_to_user_id,\n",
    "                    tweet.retweet_count,\n",
    "                    tweet.id_str,\n",
    "                    tweet.favorited,\n",
    "                    tweet.user,\n",
    "                    tweet.geo,\n",
    "                    tweet.in_reply_to_user_id_str,\n",
    "                    tweet.lang,\n",
    "                    tweet.created_at,\n",
    "                    tweet.in_reply_to_status_id_str,\n",
    "                    tweet.place] for tweet in todos]\n",
    "    \n",
    "    with open('%s_tweets.csv'%nombre_de_usuario ,'wb') as f:\n",
    "        writer = csv.writer(f)\n",
    "        writer.writerow(['text',\n",
    "                    'is_quote_status',\n",
    "                    'in_reply_to_status_id',\n",
    "                    'favorite_count',\n",
    "                    'source',\n",
    "                    'retweeted',\n",
    "                    'coordinates',\n",
    "                    'entities',\n",
    "                    'in_reply_to_screen_name',\n",
    "                    'in_reply_to_user_id',\n",
    "                    'retweet_count',\n",
    "                    'id_str',\n",
    "                    'favorited',\n",
    "                    'user',\n",
    "                    'geo',\n",
    "                    'in_reply_to_user_id_str',\n",
    "                    'lang',\n",
    "                    'created_at',\n",
    "                    'in_reply_to_status_id_str',\n",
    "                    'place'])\n",
    "        writer.writerows(outtweets)\n",
    "    f.close()"
   ]
  },
  {
   "cell_type": "markdown",
   "metadata": {
    "deletable": true,
    "editable": true
   },
   "source": [
    "### 4. Obtener datos crudos de twitter  "
   ]
  },
  {
   "cell_type": "code",
   "execution_count": null,
   "metadata": {
    "collapsed": false,
    "deletable": true,
    "editable": true
   },
   "outputs": [],
   "source": [
    "#El archivo llaves_twitter.json contiene las credenciales de twitter\n",
    "llaves=js.load(open('llaves_twitter.json','r'),encoding='utf8')"
   ]
  },
  {
   "cell_type": "code",
   "execution_count": null,
   "metadata": {
    "collapsed": false,
    "deletable": true,
    "editable": true
   },
   "outputs": [],
   "source": [
    "api = conectar_twitter(access_token=llaves['access_token'],access_token_secret=llaves['access_token_secret'],consumer_key=llaves['consumer_key'],consumer_secret=llaves['consumer_secret'])\n",
    "obtener_tweets_usuario('pictoline',api)"
   ]
  },
  {
   "cell_type": "markdown",
   "metadata": {
    "deletable": true,
    "editable": true
   },
   "source": [
    "### 5. Obtener Datos Crudos de FB "
   ]
  },
  {
   "cell_type": "code",
   "execution_count": null,
   "metadata": {
    "collapsed": false,
    "deletable": true,
    "editable": true
   },
   "outputs": [],
   "source": [
    "token = js.load(open('llaves_fb.json','rb'))['token']\n",
    "page_id = 'fcbayern.es'"
   ]
  },
  {
   "cell_type": "code",
   "execution_count": null,
   "metadata": {
    "collapsed": false,
    "deletable": true,
    "editable": true
   },
   "outputs": [],
   "source": [
    "url = \"\"\"https://graph.facebook.com/v2.8/%s/posts/?fields=message,link,permalink_url,created_time,type,name,id,comments.limit(0).summary(true),shares,likes.limit(0).summary(true),reactions.limit(0).summary(true)&limit=100&access_token=%s\n",
    "\"\"\" % (page_id,token)\n",
    "data = js.load(urlopen(url))"
   ]
  },
  {
   "cell_type": "code",
   "execution_count": null,
   "metadata": {
    "collapsed": false,
    "deletable": true,
    "editable": true
   },
   "outputs": [],
   "source": [
    "k=0\n",
    "pickle.dump(data,open('datosfb/datos_%d.fb'%k,'wb'))\n",
    "n_post = len(data['data'])\n",
    "try:\n",
    "    while \"next\" in data['paging']:\n",
    "        print \"%d post extraidos\" % n_post\n",
    "        k += 1\n",
    "        url = data['paging']['next']\n",
    "        data = js.load(urlopen(url))\n",
    "        pickle.dump(data,open('datosfb/datos_%d.fb'%k,'wb'))\n",
    "        n_post += len(data['data'])\n",
    "except:\n",
    "    pass"
   ]
  },
  {
   "cell_type": "code",
   "execution_count": null,
   "metadata": {
    "collapsed": true,
    "deletable": true,
    "editable": true
   },
   "outputs": [],
   "source": []
  }
 ],
 "metadata": {
  "anaconda-cloud": {},
  "kernelspec": {
   "display_name": "Python 2",
   "language": "python",
   "name": "python2"
  },
  "language_info": {
   "codemirror_mode": {
    "name": "ipython",
    "version": 2
   },
   "file_extension": ".py",
   "mimetype": "text/x-python",
   "name": "python",
   "nbconvert_exporter": "python",
   "pygments_lexer": "ipython2",
   "version": "2.7.12"
  }
 },
 "nbformat": 4,
 "nbformat_minor": 1
}
