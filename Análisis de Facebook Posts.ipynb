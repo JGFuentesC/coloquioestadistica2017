{
 "cells": [
  {
   "cell_type": "markdown",
   "metadata": {
    "deletable": true,
    "editable": true
   },
   "source": [
    "# Librerías "
   ]
  },
  {
   "cell_type": "code",
   "execution_count": null,
   "metadata": {
    "collapsed": false,
    "deletable": true,
    "editable": true
   },
   "outputs": [],
   "source": [
    "#manipulación de datos\n",
    "import pandas as pd\n",
    "import pickle\n",
    "import os\n",
    "pd.set_option('display.max_columns',500)\n",
    "pd.set_option('display.max_colwidth',-1)\n",
    "\n",
    "#procesamiento de lenguaje natural\n",
    "from nltk.corpus import stopwords as sw\n",
    "\n",
    "#visualización\n",
    "import matplotlib.pyplot as plt\n",
    "import seaborn as sns\n",
    "from wordcloud import WordCloud\n",
    "%matplotlib inline\n",
    "\n",
    "#machine learning\n",
    "from sklearn.mixture import GaussianMixture\n",
    "from sklearn.manifold import MDS\n",
    "from sklearn.preprocessing import MinMaxScaler\n",
    "from sklearn.model_selection import train_test_split\n",
    "from sklearn.metrics import accuracy_score,roc_auc_score\n",
    "from sklearn.feature_extraction.text import CountVectorizer\n",
    "from sklearn.linear_model import LogisticRegression\n",
    "from sklearn.naive_bayes import MultinomialNB\n",
    "from sklearn.neighbors import KNeighborsClassifier\n",
    "from sklearn.neural_network import MLPClassifier"
   ]
  },
  {
   "cell_type": "markdown",
   "metadata": {
    "deletable": true,
    "editable": true
   },
   "source": [
    "# Datos"
   ]
  },
  {
   "cell_type": "code",
   "execution_count": null,
   "metadata": {
    "collapsed": false,
    "deletable": true,
    "editable": true
   },
   "outputs": [],
   "source": [
    "archivos = os.listdir('datosfb/')\n",
    "archivos = sorted([arch for arch in archivos if arch.endswith('.fb')])"
   ]
  },
  {
   "cell_type": "code",
   "execution_count": null,
   "metadata": {
    "collapsed": true,
    "deletable": true,
    "editable": true
   },
   "outputs": [],
   "source": [
    "def convertir_pandas(data):\n",
    "    lst_con = []\n",
    "    for post in data:\n",
    "        try:\n",
    "            texto = post['message']\n",
    "        except:\n",
    "            texto = ''\n",
    "        try:\n",
    "            comentarios = post['comments']['summary']['total_count']\n",
    "        except:\n",
    "            comentarios = ''\n",
    "        try: \n",
    "            compartido = post['shares']['count']\n",
    "        except:\n",
    "            compartido = ''\n",
    "        try:\n",
    "            tipo_post = post['type']\n",
    "        except:\n",
    "            tipo_post = ''\n",
    "        try:\n",
    "            likes = post['likes']['summary']['total_count']\n",
    "        except:\n",
    "            likes = 0\n",
    "        try:\n",
    "            reacciones =post['reactions']['summary']['total_count']\n",
    "        except:\n",
    "            reacciones = ''\n",
    "        lst_con.append([texto,comentarios,compartido,tipo_post,likes,reacciones])\n",
    "    return pd.DataFrame(lst_con,columns=['texto','commentarios','compartido','tipo_post','likes','reacciones'])"
   ]
  },
  {
   "cell_type": "code",
   "execution_count": null,
   "metadata": {
    "collapsed": false,
    "deletable": true,
    "editable": true
   },
   "outputs": [],
   "source": [
    "for i,arch in enumerate(archivos):\n",
    "    data = pickle.load(open('datosfb/'+arch,'rb'))['data']\n",
    "    aux = convertir_pandas(data)\n",
    "    if i==0:\n",
    "        df = aux.copy()\n",
    "    else:\n",
    "        df = pd.concat([aux,df],ignore_index=True)"
   ]
  },
  {
   "cell_type": "code",
   "execution_count": null,
   "metadata": {
    "collapsed": false,
    "deletable": true,
    "editable": true
   },
   "outputs": [],
   "source": [
    "df.shape"
   ]
  },
  {
   "cell_type": "code",
   "execution_count": null,
   "metadata": {
    "collapsed": false
   },
   "outputs": [],
   "source": [
    "df.compartido=df.compartido.map(lambda x: '0' if x=='' else x).astype(int)"
   ]
  },
  {
   "cell_type": "code",
   "execution_count": null,
   "metadata": {
    "collapsed": false,
    "deletable": true,
    "editable": true
   },
   "outputs": [],
   "source": [
    "df.head()"
   ]
  },
  {
   "cell_type": "markdown",
   "metadata": {
    "deletable": true,
    "editable": true
   },
   "source": [
    "# Inspección Visual"
   ]
  },
  {
   "cell_type": "code",
   "execution_count": null,
   "metadata": {
    "collapsed": false
   },
   "outputs": [],
   "source": [
    "df.corr()"
   ]
  },
  {
   "cell_type": "code",
   "execution_count": null,
   "metadata": {
    "collapsed": true,
    "deletable": true,
    "editable": true
   },
   "outputs": [],
   "source": []
  }
 ],
 "metadata": {
  "kernelspec": {
   "display_name": "Python 2",
   "language": "python",
   "name": "python2"
  },
  "language_info": {
   "codemirror_mode": {
    "name": "ipython",
    "version": 2
   },
   "file_extension": ".py",
   "mimetype": "text/x-python",
   "name": "python",
   "nbconvert_exporter": "python",
   "pygments_lexer": "ipython2",
   "version": "2.7.12"
  }
 },
 "nbformat": 4,
 "nbformat_minor": 2
}
